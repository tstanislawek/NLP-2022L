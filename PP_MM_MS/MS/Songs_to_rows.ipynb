{
 "cells": [
  {
   "cell_type": "code",
   "execution_count": 1,
   "id": "e3360668-8d55-463e-b313-69be3ba9fd8b",
   "metadata": {},
   "outputs": [],
   "source": [
    "import pandas as pd\n",
    "import numpy as np\n",
    "pd.options.display.max_colwidth = 10000"
   ]
  },
  {
   "cell_type": "code",
   "execution_count": 2,
   "id": "054a863c-7b42-4446-bd20-d5fc0e99608f",
   "metadata": {},
   "outputs": [],
   "source": [
    "def songs_to_rows(csv_file):\n",
    "    data = pd.read_csv(csv_file)\n",
    "    \n",
    "    rows = []\n",
    "    for i in range(data.shape[0]):\n",
    "        for row in data.song[i].split('\\n'):\n",
    "            rows.append(row)\n",
    "    \n",
    "    rows = [row+'\\n' for row in rows]\n",
    "    \n",
    "    df = pd.DataFrame(rows)\n",
    "    df.columns = ['row']\n",
    "    \n",
    "    df.to_csv('rows_' + csv_file, index = False)"
   ]
  },
  {
   "cell_type": "code",
   "execution_count": 3,
   "id": "6e5dcd13-c8a2-4f78-810b-67e33feff599",
   "metadata": {},
   "outputs": [],
   "source": [
    "songs_to_rows('train.csv')\n",
    "songs_to_rows('test.csv')\n",
    "songs_to_rows('validation.csv')"
   ]
  }
 ],
 "metadata": {
  "environment": {
   "kernel": "python3",
   "name": "pytorch-gpu.1-10.m90",
   "type": "gcloud",
   "uri": "gcr.io/deeplearning-platform-release/pytorch-gpu.1-10:m90"
  },
  "kernelspec": {
   "display_name": "Python 3",
   "language": "python",
   "name": "python3"
  },
  "language_info": {
   "codemirror_mode": {
    "name": "ipython",
    "version": 3
   },
   "file_extension": ".py",
   "mimetype": "text/x-python",
   "name": "python",
   "nbconvert_exporter": "python",
   "pygments_lexer": "ipython3",
   "version": "3.7.12"
  }
 },
 "nbformat": 4,
 "nbformat_minor": 5
}
