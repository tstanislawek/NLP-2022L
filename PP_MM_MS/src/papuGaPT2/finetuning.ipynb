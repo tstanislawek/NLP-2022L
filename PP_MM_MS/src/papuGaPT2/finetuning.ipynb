{
 "cells": [
  {
   "cell_type": "markdown",
   "id": "d25c29d8-3e15-42d6-9636-851174944654",
   "metadata": {},
   "source": [
    "# PapuGaPT2\n",
    "\n",
    "useful resources: </br>\n",
    "https://towardsdatascience.com/how-to-fine-tune-gpt-2-for-text-generation-ae2ea53bc272 </br>\n",
    "https://towardsdatascience.com/conditional-text-generation-by-fine-tuning-gpt-2-11c1a9fc639d </br>"
   ]
  },
  {
   "cell_type": "code",
   "execution_count": 1,
   "id": "daf8d977-5a7c-4c98-a237-f1d54abdd82c",
   "metadata": {},
   "outputs": [],
   "source": [
    "from transformers import TextDataset, AutoTokenizer, AutoModelForCausalLM, \\\n",
    "pipeline, set_seed, Trainer, AdamW, get_linear_schedule_with_warmup, GPT2Config, \\\n",
    "GPT2LMHeadModel\n",
    "\n",
    "import datasets\n",
    "import time\n",
    "import torch\n",
    "import random\n",
    "import matplotlib.pyplot as plt\n",
    "import seaborn as sn\n",
    "import numpy as np\n",
    "\n",
    "from tqdm import tqdm\n",
    "from datetime import datetime\n",
    "from torch.utils.data import Dataset, random_split, DataLoader, RandomSampler, SequentialSampler"
   ]
  },
  {
   "cell_type": "code",
   "execution_count": 2,
   "id": "01b6c173-9403-4385-abd0-548afc419de9",
   "metadata": {},
   "outputs": [],
   "source": [
    "path_to_file = \"data/songs_data.txt\"\n",
    "BATCH_SIZE = 16\n",
    "RANDOM_SEED = 123\n",
    "MAX_LEN = 512\n",
    "EPOCHS = 2"
   ]
  },
  {
   "cell_type": "code",
   "execution_count": 3,
   "id": "03adddf6-e91a-4e94-9342-072581b31b6b",
   "metadata": {},
   "outputs": [
    {
     "name": "stdout",
     "output_type": "stream",
     "text": [
      "Added 4 new tokes.\n"
     ]
    },
    {
     "data": {
      "text/plain": [
       "<torch._C.Generator at 0x7fa61656ebd0>"
      ]
     },
     "execution_count": 3,
     "metadata": {},
     "output_type": "execute_result"
    }
   ],
   "source": [
    "model = AutoModelForCausalLM.from_pretrained('flax-community/papuGaPT2')\n",
    "tokenizer = AutoTokenizer.from_pretrained('flax-community/papuGaPT2')\n",
    "special_tokens_dict = {\n",
    "     'bos_token': '<BOS>', \n",
    "     'eos_token': '<EOS>', \n",
    "     'unk_token': '<UNK>',\n",
    "     'pad_token': '<PAD>'}\n",
    "num_added_tokens = tokenizer.add_special_tokens(special_tokens_dict)\n",
    "print(f\"Added {num_added_tokens} new tokes.\")\n",
    "\n",
    "set_seed(RANDOM_SEED) # reproducibility\n",
    "torch.cuda.manual_seed_all(RANDOM_SEED)\n",
    "random.seed(RANDOM_SEED)\n",
    "np.random.seed(RANDOM_SEED)\n",
    "torch.manual_seed(RANDOM_SEED)"
   ]
  },
  {
   "cell_type": "code",
   "execution_count": 4,
   "id": "1784d6f1-48a3-4899-ac9e-7a9186c5d8d0",
   "metadata": {},
   "outputs": [],
   "source": [
    "model.resize_token_embeddings(len(tokenizer))\n",
    " \n",
    "# freezing bottom 6 layers of the model\n",
    "\n",
    "for parameter in model.parameters():\n",
    "    parameter.requires_grad = False\n",
    "\n",
    "for i, m in enumerate(model.transformer.h):        \n",
    "    #Only un-freeze the last n transformer blocks\n",
    "    if i >= 6:\n",
    "        for parameter in m.parameters():\n",
    "            parameter.requires_grad = True \n",
    "\n",
    "# un-freezing weights in normalization layers     \n",
    "for parameter in model.transformer.ln_f.parameters():        \n",
    "    parameter.requires_grad = True\n",
    "\n",
    "# unfreeze model head (which outputs the probability over vocab)\n",
    "for parameter in model.lm_head.parameters():        \n",
    "    parameter.requires_grad = True"
   ]
  },
  {
   "cell_type": "code",
   "execution_count": 5,
   "id": "35f2037d-9735-4fcb-877d-899643da66d6",
   "metadata": {},
   "outputs": [
    {
     "name": "stdout",
     "output_type": "stream",
     "text": [
      "number of input sentences = 190585\n"
     ]
    }
   ],
   "source": [
    "sentences = []\n",
    "with open(\"./../../data/songs_data.txt\", \"r\", encoding=\"utf-8\") as f:\n",
    "    lines = f.readlines()\n",
    "    for line in lines:\n",
    "        if line != \"\\n\":\n",
    "            sentences.append(line)\n",
    "            \n",
    "print(f\"number of input sentences = {len(sentences)}\")\n",
    "\n",
    "sentences = sentences[:len(sentences)//2]"
   ]
  },
  {
   "cell_type": "code",
   "execution_count": 6,
   "id": "055e50a2-3e6f-44f7-94d9-ba8aac318dd0",
   "metadata": {},
   "outputs": [
    {
     "name": "stderr",
     "output_type": "stream",
     "text": [
      "100%|██████████| 95292/95292 [00:47<00:00, 2007.11it/s]\n"
     ]
    }
   ],
   "source": [
    "class DiscoDataset(Dataset):\n",
    "    def __init__(self, data, tokenizer, gpt2_type='gpt2', max_length=MAX_LEN):\n",
    "        self.tokenizer = tokenizer\n",
    "        self.input_ids = []\n",
    "        self.attn_masks = []\n",
    "        \n",
    "        for i in tqdm(data):\n",
    "            encodings_dict = tokenizer(i,'<BOS>' + i + '<EOS>',\n",
    "                                     truncation=True,\n",
    "                                     max_length=max_length,\n",
    "                                     padding='max_length')\n",
    "\n",
    "            self.input_ids.append(torch.tensor(encodings_dict['input_ids']))\n",
    "            self.attn_masks.append(torch.tensor(encodings_dict['attention_mask']))\n",
    "\n",
    "    def __len__(self):\n",
    "        return len(self.input_ids)\n",
    "    \n",
    "    def __getitem__(self, idx):\n",
    "        return self.input_ids[idx], self.attn_masks[idx]\n",
    "        \n",
    "songs_dataset = DiscoDataset(sentences, tokenizer, max_length=MAX_LEN)\n",
    "\n",
    "songs_dataset_train_dataloader = DataLoader(songs_dataset,\n",
    "                              sampler=RandomSampler(songs_dataset),\n",
    "                              batch_size=BATCH_SIZE)"
   ]
  },
  {
   "cell_type": "code",
   "execution_count": 7,
   "id": "05955101-665e-4630-acf0-79ae4d4e7b67",
   "metadata": {},
   "outputs": [],
   "source": [
    "a = next(iter(songs_dataset_train_dataloader))"
   ]
  },
  {
   "cell_type": "code",
   "execution_count": 8,
   "id": "6d501e4e-38d3-455b-a2f9-10a0a0db3560",
   "metadata": {},
   "outputs": [
    {
     "data": {
      "text/plain": [
       "2"
      ]
     },
     "execution_count": 8,
     "metadata": {},
     "output_type": "execute_result"
    }
   ],
   "source": [
    "len(a)"
   ]
  },
  {
   "cell_type": "code",
   "execution_count": 9,
   "id": "b2b3e8af-a2b4-4de6-9d85-53c93dd33ba4",
   "metadata": {},
   "outputs": [
    {
     "data": {
      "text/plain": [
       "torch.Size([16, 512])"
      ]
     },
     "execution_count": 9,
     "metadata": {},
     "output_type": "execute_result"
    }
   ],
   "source": [
    "a[0].shape"
   ]
  },
  {
   "cell_type": "code",
   "execution_count": 10,
   "id": "7a5dcfc4-39b4-4b41-8db9-98caa929fbf6",
   "metadata": {},
   "outputs": [
    {
     "data": {
      "text/plain": [
       "torch.Size([16, 512])"
      ]
     },
     "execution_count": 10,
     "metadata": {},
     "output_type": "execute_result"
    }
   ],
   "source": [
    "a[1].shape"
   ]
  },
  {
   "cell_type": "code",
   "execution_count": null,
   "id": "2eba5208-4014-4bcf-9374-a6c4428d9933",
   "metadata": {},
   "outputs": [
    {
     "name": "stderr",
     "output_type": "stream",
     "text": [
      "/opt/conda/lib/python3.7/site-packages/transformers/optimization.py:309: FutureWarning: This implementation of AdamW is deprecated and will be removed in a future version. Use the PyTorch implementation torch.optim.AdamW instead, or set `no_deprecation_warning=True` to disable this warning\n",
      "  FutureWarning,\n"
     ]
    },
    {
     "name": "stdout",
     "output_type": "stream",
     "text": [
      "Epoch 1 of 2\n",
      "Step 0 out of 5956 steps (12:54:48, epoch = 0).\n"
     ]
    }
   ],
   "source": [
    "# helper function for logging time\n",
    "def format_time(elapsed):\n",
    "    return str(datetime.timedelta(seconds=int(round((elapsed)))))\n",
    "\n",
    "# hyperparameters\n",
    "learning_rate = 1e-4\n",
    "eps = 1e-8\n",
    "warmup_steps = 50\n",
    "\n",
    "\n",
    "optimizer = AdamW(model.parameters(), lr=learning_rate, eps=eps)\n",
    "total_steps = len(songs_dataset_train_dataloader) * EPOCHS\n",
    "scheduler = get_linear_schedule_with_warmup(optimizer,\n",
    "                                            num_warmup_steps=warmup_steps,\n",
    "                                            num_training_steps=total_steps)\n",
    "\n",
    "start_time = time.time()\n",
    "total_steps_epoch = total_steps // EPOCHS\n",
    "# poem_stanza_model = poem_stanza_model.to(device)\n",
    "\n",
    "for epoch_i in range(0, EPOCHS):\n",
    "\n",
    "    print(f'Epoch {epoch_i + 1} of {EPOCHS}')\n",
    "\n",
    "    t0 = time.time()\n",
    "    total_train_loss = 0\n",
    "    model.train()\n",
    "\n",
    "    for step, batch in enumerate(songs_dataset_train_dataloader):\n",
    "        \n",
    "        if step % 10 == 0:\n",
    "            curr_time = datetime.now().strftime(\"%H:%M:%S\")\n",
    "            print(f\"Step {step} out of {total_steps_epoch} steps ({curr_time}, epoch = {epoch_i}).\")\n",
    "        \n",
    "        b_input_ids = batch[0]#.to(device)\n",
    "        b_labels = batch[0]#.to(device)\n",
    "        b_masks = batch[1]#.to(device)\n",
    "\n",
    "        model.zero_grad()        \n",
    "        \n",
    "        #print(b_input_ids.shape)\n",
    "        #print(b_input_ids[0])\n",
    "        #print(b_masks.shape)\n",
    "        \n",
    "        outputs = model(b_input_ids,\n",
    "                                    labels=b_labels,\n",
    "                                    attention_mask=b_masks,\n",
    "                                    token_type_ids=None)\n",
    "\n",
    "        loss = outputs[0]  \n",
    "\n",
    "        batch_loss = loss.item()\n",
    "        total_train_loss += batch_loss\n",
    "\n",
    "        loss.backward()\n",
    "        optimizer.step()\n",
    "        scheduler.step()\n",
    "\n",
    "    avg_train_loss = total_train_loss / len(songs_dataset_train_dataloader)       \n",
    "    training_time = format_time(time.time() - t0)\n",
    "\n",
    "    print(f'Average Training Loss: {avg_train_loss}. Epoch Training Time: {training_time}')\n",
    "\n",
    "    t0 = time.time()\n",
    "\n",
    "print(f'Total Training Time: {format_time(time.time()-start_time)}')\n",
    "\n",
    "#torch.save(model.state_dict(), \"models/PapuGaPT2_finetuned/PapuGaPT2_finetuned.pth\")"
   ]
  },
  {
   "cell_type": "code",
   "execution_count": null,
   "id": "701e1d79-6a5c-4620-aa21-f6bd832137a1",
   "metadata": {},
   "outputs": [],
   "source": [
    "2+2"
   ]
  },
  {
   "cell_type": "code",
   "execution_count": null,
   "id": "cef5fc80-0886-473e-877f-9c35c9597717",
   "metadata": {},
   "outputs": [],
   "source": [
    "#dataset = datasets.load_dataset(\"text\", data_files=path_to_file)"
   ]
  },
  {
   "cell_type": "code",
   "execution_count": null,
   "id": "583f66b6-38d2-44b9-90d5-c51fdcf9e80c",
   "metadata": {},
   "outputs": [],
   "source": [
    "#dataset"
   ]
  },
  {
   "cell_type": "code",
   "execution_count": null,
   "id": "55876b3c-5fbe-454d-b386-ed5bdfc483d9",
   "metadata": {},
   "outputs": [],
   "source": [
    "# train_data = dataset.map(\n",
    "#     lambda example: tokenizer(example['text'], padding=True, truncation=True, max_length=512),#, return_tensors=\"pt\"\n",
    "#     batched=True,\n",
    "#     batch_size=16\n",
    "# )\n",
    "# train_data = train_data.remove_columns([\"text\"])\n",
    "# train_data.set_format(\"torch\")"
   ]
  },
  {
   "cell_type": "code",
   "execution_count": null,
   "id": "062bf08f-7cb5-49a0-b4d0-e9f38611b8ee",
   "metadata": {},
   "outputs": [],
   "source": [
    "#model.resize_token_embeddings(len(tokenizer))"
   ]
  },
  {
   "cell_type": "code",
   "execution_count": null,
   "id": "a4c95755-c4e5-42af-842a-5ecb5960de7f",
   "metadata": {},
   "outputs": [],
   "source": [
    "#model.resize_token_embeddings(len(tokenizer))"
   ]
  },
  {
   "cell_type": "code",
   "execution_count": null,
   "id": "3eb298e2-6397-4962-b400-b9d8279df8d4",
   "metadata": {},
   "outputs": [],
   "source": [
    "# from transformers import DataCollatorForTokenClassification\n",
    "# data_collator = DataCollatorForTokenClassification(tokenizer)\n",
    "\n",
    "\n",
    "# trainer = Trainer(\n",
    "#     model=model,\n",
    "#     tokenizer=tokenizer,\n",
    "#     data_collator=data_collator,\n",
    "#     #args=TrainingArguments(output_dir=\"/content/drive/MyDrive/NLP/model\"),\n",
    "#     train_dataset=train_data[\"train\"]\n",
    "# )\n",
    "# trainer.train()"
   ]
  },
  {
   "cell_type": "code",
   "execution_count": null,
   "id": "4fe1cfe0-abb2-4d35-ac35-e0778822d2a7",
   "metadata": {},
   "outputs": [],
   "source": [
    "\"\"\"\n",
    "preprocessing - one song is one input \n",
    "\n",
    "\n",
    "songs = []\n",
    "with open(\"data/songs_data.txt\", \"r\", encoding=\"utf-8\") as f:\n",
    "    lines = f.readlines()\n",
    "    song = \"\"\n",
    "    for line in lines:\n",
    "        if line == \"\\n\":\n",
    "            songs.append(song)\n",
    "            song = \"\"\n",
    "        else:\n",
    "            song += line\n",
    "            song += \" \"\n",
    "songs.append(song)\n",
    "print(f\"number of songs = {len(songs)}\")\n",
    "\n",
    "ls = [len(i) for i in songs]\n",
    "#fig, ax = plt.subplots(1, 1, figsize=(4,4))\n",
    "sn.displot(ls)\n",
    "plt.show()\n",
    "\n",
    "old_songs = songs.copy()\n",
    "songs = []\n",
    "for i in old_songs:\n",
    "    if len(i)>0:\n",
    "        songs.append(i)\n",
    "        \n",
    "print(f\"number of songs afer removing 0s = {len(songs)}\")\n",
    "ls = [len(i) for i in songs]\n",
    "sn.displot(ls)\n",
    "plt.show()\n",
    "\"\"\""
   ]
  },
  {
   "cell_type": "code",
   "execution_count": null,
   "id": "66b11446-0da2-4c62-88cd-4b03a0287652",
   "metadata": {},
   "outputs": [],
   "source": []
  },
  {
   "cell_type": "code",
   "execution_count": null,
   "id": "bd20626b-6040-4193-a160-be79270a25d3",
   "metadata": {},
   "outputs": [],
   "source": []
  },
  {
   "cell_type": "code",
   "execution_count": null,
   "id": "1f7db83d-e70e-451f-9050-94f44fc56c64",
   "metadata": {},
   "outputs": [],
   "source": []
  },
  {
   "cell_type": "code",
   "execution_count": null,
   "id": "b98997f9-2fb5-45fc-bd32-c87ca0f9cb1d",
   "metadata": {},
   "outputs": [],
   "source": []
  }
 ],
 "metadata": {
  "environment": {
   "kernel": "python3",
   "name": "pytorch-gpu.1-10.m90",
   "type": "gcloud",
   "uri": "gcr.io/deeplearning-platform-release/pytorch-gpu.1-10:m90"
  },
  "kernelspec": {
   "display_name": "Python 3",
   "language": "python",
   "name": "python3"
  },
  "language_info": {
   "codemirror_mode": {
    "name": "ipython",
    "version": 3
   },
   "file_extension": ".py",
   "mimetype": "text/x-python",
   "name": "python",
   "nbconvert_exporter": "python",
   "pygments_lexer": "ipython3",
   "version": "3.7.12"
  }
 },
 "nbformat": 4,
 "nbformat_minor": 5
}
