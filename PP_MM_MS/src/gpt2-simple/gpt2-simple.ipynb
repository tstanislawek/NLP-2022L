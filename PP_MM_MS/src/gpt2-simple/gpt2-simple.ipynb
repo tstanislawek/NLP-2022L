{
 "cells": [
  {
   "cell_type": "code",
   "execution_count": 1,
   "id": "f252ff42-6fb7-4b66-9672-45e09f331c62",
   "metadata": {},
   "outputs": [],
   "source": [
    "!pip install gpt-2-simple > log"
   ]
  },
  {
   "cell_type": "code",
   "execution_count": 2,
   "id": "bfc30bdd-b89f-49eb-850f-5da716ff1fcf",
   "metadata": {},
   "outputs": [],
   "source": [
    "import gpt_2_simple as gpt2\n",
    "import os\n",
    "from datetime import datetime \n",
    "import tensorflow as tf\n",
    "from google.cloud import storage\n",
    "os.chdir('..')"
   ]
  },
  {
   "cell_type": "code",
   "execution_count": 3,
   "id": "4e138d89-74b9-4708-bb0b-dde039b09b3f",
   "metadata": {},
   "outputs": [],
   "source": [
    "model_name=\"124M\"\n",
    "checkpoint_dir = 'checkpoint'\n",
    "file_name = \"data/songs_data.txt\"\n",
    "timestamp = datetime.now().strftime(\"%Y%m%d%H%M%S\")\n",
    "bucket_name = \"poem-generator-checkpoints\"\n",
    "run_name='disco_polo_gen'"
   ]
  },
  {
   "cell_type": "code",
   "execution_count": 4,
   "id": "c21ffffb-1527-4a56-8a09-65cac5d51955",
   "metadata": {},
   "outputs": [],
   "source": [
    "if not os.path.exists(os.path.join('models', model_name)):\n",
    "    gpt2.download_gpt2(model_name=model_name)"
   ]
  },
  {
   "cell_type": "code",
   "execution_count": null,
   "id": "78c5d72a-0e10-45f4-9fab-434a0c319ff4",
   "metadata": {},
   "outputs": [
    {
     "name": "stderr",
     "output_type": "stream",
     "text": [
      "2022-03-26 14:00:12.332838: I tensorflow/core/platform/cpu_feature_guard.cc:151] This TensorFlow binary is optimized with oneAPI Deep Neural Network Library (oneDNN) to use the following CPU instructions in performance-critical operations:  AVX2 FMA\n",
      "To enable them in other operations, rebuild TensorFlow with the appropriate compiler flags.\n",
      "2022-03-26 14:00:12.333664: W tensorflow/stream_executor/platform/default/dso_loader.cc:64] Could not load dynamic library 'libcuda.so.1'; dlerror: libcuda.so.1: cannot open shared object file: No such file or directory; LD_LIBRARY_PATH: /usr/local/cuda/lib64:/usr/local/nccl2/lib:/usr/local/cuda/extras/CUPTI/lib64\n",
      "2022-03-26 14:00:12.333699: W tensorflow/stream_executor/cuda/cuda_driver.cc:269] failed call to cuInit: UNKNOWN ERROR (303)\n",
      "2022-03-26 14:00:12.333728: I tensorflow/stream_executor/cuda/cuda_diagnostics.cc:156] kernel driver does not appear to be running on this host (pytorch-1-10-20220326-144724): /proc/driver/nvidia/version does not exist\n"
     ]
    },
    {
     "name": "stdout",
     "output_type": "stream",
     "text": [
      "Loading checkpoint models/124M/model.ckpt\n",
      "INFO:tensorflow:Restoring parameters from models/124M/model.ckpt\n",
      "Loading dataset...\n"
     ]
    },
    {
     "name": "stderr",
     "output_type": "stream",
     "text": [
      "100%|██████████| 1/1 [00:09<00:00,  9.96s/it]\n"
     ]
    },
    {
     "name": "stdout",
     "output_type": "stream",
     "text": [
      "dataset has 3432165 tokens\n",
      "Training...\n",
      "[10 | 95.59] loss=2.83 avg=2.83\n"
     ]
    }
   ],
   "source": [
    "sess = gpt2.start_tf_sess() \n",
    "gpt2.finetune(sess,\n",
    "              dataset=file_name,\n",
    "              model_name=model_name,\n",
    "              reuse=False,\n",
    "              steps=15000,\n",
    "              run_name=run_name,\n",
    "              print_every=10,\n",
    "              sample_every=200,\n",
    "              save_every=100, \n",
    "              only_train_transformer_layers = True,\n",
    "              accumulate_gradients = 1,\n",
    "              overwrite=True\n",
    "              )"
   ]
  },
  {
   "cell_type": "code",
   "execution_count": null,
   "id": "ac3760be-c41b-4ab8-9986-a74efec9731a",
   "metadata": {},
   "outputs": [],
   "source": [
    "bucket = storage.Client().get_bucket(bucket_name)\n",
    "for f_name in os.listdir(os.path.join(checkpoint_dir, run_name)):\n",
    "    bucket.blob(os.path.join(timestamp, checkpoint_dir, run_name, f_name))\\\n",
    "                .upload_from_filename(os.path.join(checkpoint_dir, run_name, f_name))"
   ]
  },
  {
   "cell_type": "code",
   "execution_count": null,
   "id": "8a4327aa-ad91-456f-9e5a-a7f4e15702f7",
   "metadata": {},
   "outputs": [],
   "source": []
  }
 ],
 "metadata": {
  "environment": {
   "kernel": "python3",
   "name": "pytorch-gpu.1-10.m90",
   "type": "gcloud",
   "uri": "gcr.io/deeplearning-platform-release/pytorch-gpu.1-10:m90"
  },
  "kernelspec": {
   "display_name": "Python 3",
   "language": "python",
   "name": "python3"
  },
  "language_info": {
   "codemirror_mode": {
    "name": "ipython",
    "version": 3
   },
   "file_extension": ".py",
   "mimetype": "text/x-python",
   "name": "python",
   "nbconvert_exporter": "python",
   "pygments_lexer": "ipython3",
   "version": "3.7.12"
  }
 },
 "nbformat": 4,
 "nbformat_minor": 5
}
