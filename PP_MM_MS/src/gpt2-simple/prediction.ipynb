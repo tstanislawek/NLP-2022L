{
 "cells": [
  {
   "cell_type": "code",
   "execution_count": 1,
   "id": "66d825c0-cd8f-4e99-9024-2e708ce6a568",
   "metadata": {},
   "outputs": [],
   "source": [
    "!pip install gpt-2-simple > log"
   ]
  },
  {
   "cell_type": "code",
   "execution_count": 2,
   "id": "94fe4354-1117-438a-be31-cde185a3ac13",
   "metadata": {},
   "outputs": [],
   "source": [
    "import gpt_2_simple as gpt2  \n",
    "from google.cloud import storage\n",
    "import os\n",
    "os.chdir('..')"
   ]
  },
  {
   "cell_type": "code",
   "execution_count": 3,
   "id": "a47cc1b5-1706-44cb-b7c2-55fb0b0a6ccd",
   "metadata": {},
   "outputs": [],
   "source": [
    "model_name=\"124M\"\n",
    "checkpoint_dir = 'checkpoint'\n",
    "file_name = \"songs_data.txt\" \n",
    "bucket_name = \"poem-generator-checkpoints\"\n",
    "run_name='disco_polo_gen'"
   ]
  },
  {
   "cell_type": "code",
   "execution_count": 4,
   "id": "2fe68824-5f5c-457b-90dd-fa4c189ae0a7",
   "metadata": {},
   "outputs": [],
   "source": [
    "if not os.path.exists(os.path.join('models', model_name)):\n",
    "    gpt2.download_gpt2(model_name=model_name)"
   ]
  },
  {
   "cell_type": "code",
   "execution_count": 5,
   "id": "3dd1ca8a-4912-44b5-9073-75875b4ec9cd",
   "metadata": {},
   "outputs": [
    {
     "name": "stdout",
     "output_type": "stream",
     "text": [
      "Loading last timestamp:  20220326130512\n"
     ]
    }
   ],
   "source": [
    "bucket = storage.Client().get_bucket(bucket_name)\n",
    "if not os.path.exists(os.path.join(checkpoint_dir, run_name)):\n",
    "    os.makedirs(checkpoint_dir, exist_ok=True)\n",
    "    os.makedirs(os.path.join(checkpoint_dir, run_name), exist_ok=True)\n",
    "    last_timestamp = max([bn.name.split('/')[0] for bn in bucket.list_blobs()])\n",
    "    print(\"Loading last timestamp: \", last_timestamp)\n",
    "    for blob in bucket.list_blobs():\n",
    "        if blob.name.startswith(last_timestamp):\n",
    "            blob.download_to_filename(blob.name.replace(last_timestamp + '/', ''))"
   ]
  },
  {
   "cell_type": "code",
   "execution_count": 6,
   "id": "21d34dd2-2b23-4bb2-b648-2436a9607058",
   "metadata": {},
   "outputs": [
    {
     "name": "stderr",
     "output_type": "stream",
     "text": [
      "2022-03-26 13:36:28.566345: I tensorflow/core/platform/cpu_feature_guard.cc:151] This TensorFlow binary is optimized with oneAPI Deep Neural Network Library (oneDNN) to use the following CPU instructions in performance-critical operations:  AVX2 FMA\n",
      "To enable them in other operations, rebuild TensorFlow with the appropriate compiler flags.\n",
      "2022-03-26 13:36:28.567236: W tensorflow/stream_executor/platform/default/dso_loader.cc:64] Could not load dynamic library 'libcuda.so.1'; dlerror: libcuda.so.1: cannot open shared object file: No such file or directory; LD_LIBRARY_PATH: /usr/local/cuda/lib64:/usr/local/nccl2/lib:/usr/local/cuda/extras/CUPTI/lib64\n",
      "2022-03-26 13:36:28.567270: W tensorflow/stream_executor/cuda/cuda_driver.cc:269] failed call to cuInit: UNKNOWN ERROR (303)\n",
      "2022-03-26 13:36:28.567303: I tensorflow/stream_executor/cuda/cuda_diagnostics.cc:156] kernel driver does not appear to be running on this host (pytorch-1-10-20220325-170501): /proc/driver/nvidia/version does not exist\n"
     ]
    },
    {
     "name": "stdout",
     "output_type": "stream",
     "text": [
      "Loading checkpoint checkpoint/disco_polo_gen/model-100\n",
      "INFO:tensorflow:Restoring parameters from checkpoint/disco_polo_gen/model-100\n"
     ]
    }
   ],
   "source": [
    "sess = gpt2.start_tf_sess()\n",
    "gpt2.load_gpt2(sess, run_name=run_name)"
   ]
  },
  {
   "cell_type": "code",
   "execution_count": null,
   "id": "0409162d-35ee-45f8-a33c-3850594ed8c2",
   "metadata": {},
   "outputs": [],
   "source": [
    "gpt2.generate(sess,\n",
    "              run_name=run_name,\n",
    "              length=150,\n",
    "              temperature=0.7,\n",
    "              prefix=\"Mój wszechmocny Mirosławie\",\n",
    "              nsamples=5,\n",
    "              batch_size=5\n",
    "              )"
   ]
  },
  {
   "cell_type": "code",
   "execution_count": null,
   "id": "6eb30386-9e21-4b11-9898-3ecd8566bed2",
   "metadata": {},
   "outputs": [],
   "source": []
  }
 ],
 "metadata": {
  "environment": {
   "kernel": "python3",
   "name": "pytorch-gpu.1-10.m90",
   "type": "gcloud",
   "uri": "gcr.io/deeplearning-platform-release/pytorch-gpu.1-10:m90"
  },
  "kernelspec": {
   "display_name": "Python 3",
   "language": "python",
   "name": "python3"
  },
  "language_info": {
   "codemirror_mode": {
    "name": "ipython",
    "version": 3
   },
   "file_extension": ".py",
   "mimetype": "text/x-python",
   "name": "python",
   "nbconvert_exporter": "python",
   "pygments_lexer": "ipython3",
   "version": "3.7.12"
  }
 },
 "nbformat": 4,
 "nbformat_minor": 5
}
